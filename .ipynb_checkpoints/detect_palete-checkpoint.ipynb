{
 "cells": [
  {
   "cell_type": "code",
   "execution_count": 9,
   "id": "966ffc44-69e3-4918-8138-f2d19ceceebe",
   "metadata": {},
   "outputs": [
    {
     "name": "stdout",
     "output_type": "stream",
     "text": [
      "(448, 341) (916, 341) (916, 429) (448, 429)\n"
     ]
    }
   ],
   "source": [
    "import cv2 \n",
    "import numpy as np \n",
    "\n",
    "base_path  = 'D:\\\\python3\\\\tcs\\\\assets\\\\'\n",
    "\n",
    "image_path = 'max.png'\n",
    "template_path = 'min.png'\n",
    "\n",
    "img = cv2.imread(base_path+image_path)\n",
    "template = cv2.imread(base_path+template_path)\n",
    "\n",
    "# Convert images to grayscale\n",
    "img_gray = cv2.cvtColor(img, cv2.COLOR_BGR2GRAY)\n",
    "template_gray = cv2.cvtColor(template, cv2.COLOR_BGR2GRAY)\n",
    "\n",
    "# Perform template matching\n",
    "result = cv2.matchTemplate(img_gray, template_gray, cv2.TM_CCOEFF_NORMED)\n",
    "\n",
    "# Get the location of the maximum value in the result\n",
    "min_val, max_val, min_loc, max_loc = cv2.minMaxLoc(result)\n",
    "\n",
    "# Draw a rectangle around the matched area\n",
    "h, w = template_gray.shape\n",
    "top_left = max_loc\n",
    "top_right = (top_left[0] + w, top_left[1])\n",
    "bottom_right = (top_left[0] + w, top_left[1] + h)\n",
    "bottom_left = (top_left[0], top_left[1] + h)\n",
    "#cv2.rectangle(img, top_left, bottom_right, (0, 255, 0), 2)\n",
    "\n",
    "print(top_left,top_right ,  bottom_right,bottom_left)\n",
    "      \n",
    "# Display the result\n",
    "#cv2.imshow('Template Matching Result', img)\n",
    "#cv2.waitKey(0)\n",
    "#cv2.destroyAllWindows()"
   ]
  },
  {
   "cell_type": "code",
   "execution_count": null,
   "id": "d0ac4db2-a673-45b2-aba7-8098c2fde5f3",
   "metadata": {},
   "outputs": [],
   "source": []
  }
 ],
 "metadata": {
  "kernelspec": {
   "display_name": "Python 3 (ipykernel)",
   "language": "python",
   "name": "python3"
  },
  "language_info": {
   "codemirror_mode": {
    "name": "ipython",
    "version": 3
   },
   "file_extension": ".py",
   "mimetype": "text/x-python",
   "name": "python",
   "nbconvert_exporter": "python",
   "pygments_lexer": "ipython3",
   "version": "3.11.8"
  }
 },
 "nbformat": 4,
 "nbformat_minor": 5
}
